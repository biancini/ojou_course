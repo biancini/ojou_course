{
 "cells": [
  {
   "cell_type": "code",
   "execution_count": null,
   "metadata": {},
   "outputs": [],
   "source": [
    "from jwkest import as_bytes\n",
    "from jwkest import as_unicode\n",
    "from jwkest import b64e\n",
    "from jwkest import b64d\n",
    "import json\n",
    "\n",
    "# Make body\n",
    "claims_set = {\"foo\": \"bar\"}\n",
    "txt = json.dumps(claims_set)\n",
    "msg = b64e(as_bytes(txt))\n",
    "\n",
    "# Make header\n",
    "header = {\"alg\": \"none\"}\n",
    "htxt = json.dumps(header)\n",
    "hdr = b64e(as_bytes(htxt))\n",
    "\n",
    "# create insigned JWS\n",
    "jws = \".\".join([as_unicode(hdr), as_unicode(msg), \"\"])\n",
    "\n",
    "print(\"JWT={}\".format(jws))"
   ]
  },
  {
   "cell_type": "code",
   "execution_count": null,
   "metadata": {},
   "outputs": [],
   "source": [
    "for p in jws.split(\".\"):\n",
    "    p = p.encode(\"utf8\")\n",
    "    print(b64d(p))"
   ]
  },
  {
   "cell_type": "code",
   "execution_count": null,
   "metadata": {
    "collapsed": true
   },
   "outputs": [],
   "source": [
    "from jwkest.jws import JWS\n",
    "\n",
    "# JWS is A class that can be used for signing and verifying signatures\n",
    "jws = JWS({\"foo\": \"bar\"}, alg=\"none\").sign_compact()\n",
    "\n",
    "print(\"JWT={}\".format(jws))"
   ]
  },
  {
   "cell_type": "code",
   "execution_count": null,
   "metadata": {
    "collapsed": true
   },
   "outputs": [],
   "source": [
    "for p in jws.split(\".\"):\n",
    "    p = p.encode(\"utf8\")\n",
    "    print(b64d(p))"
   ]
  },
  {
   "cell_type": "code",
   "execution_count": null,
   "metadata": {
    "collapsed": true
   },
   "outputs": [],
   "source": []
  }
 ],
 "metadata": {
  "kernelspec": {
   "display_name": "Python 3",
   "language": "python",
   "name": "python3"
  },
  "language_info": {
   "codemirror_mode": {
    "name": "ipython",
    "version": 3
   },
   "file_extension": ".py",
   "mimetype": "text/x-python",
   "name": "python",
   "nbconvert_exporter": "python",
   "pygments_lexer": "ipython3",
   "version": "3.5.2"
  }
 },
 "nbformat": 4,
 "nbformat_minor": 2
}
