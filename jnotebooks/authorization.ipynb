{
 "cells": [
  {
   "cell_type": "code",
   "execution_count": 1,
   "metadata": {},
   "outputs": [
    {
     "name": "stdout",
     "output_type": "stream",
     "text": [
      "<html>\n",
      "  <head>\n",
      "    <title>User log in</title>\n",
      "  </head>\n",
      "    <body>\n",
      "        <div class=\"login_form\" class=\"block\">\n",
      "            <form action=\"https://agaton-sax.com:8041/verify\" method=\"post\" class=\"login form\">\n",
      "                <input type=\"hidden\" name=\"query\" value=\"scope=openid&response_type=code&redirect_uri=https%3A%2F%2Fexample.com%2Frp&state=AIbTynGGPMdmAlJr&client_id=iqKUvSLNtKfV\"/>\n",
      "                <input type=\"hidden\" name=\"acr_values\" value=\"\"/>\n",
      "                <table>\n",
      "                    <tr>\n",
      "                        <td>Username</td>\n",
      "                        <td><input type=\"text\" name=\"login\"\n",
      "                                   value=\"\"/></td>\n",
      "                    </tr>\n",
      "                    <tr>\n",
      "                        <td>Password</td>\n",
      "                        <td><input type=\"password\" name=\"password\"\n",
      "                        value=\"\"/></td>\n",
      "                    </tr>\n",
      "                    <tr>\n",
      "                        <td></td>\n",
      "                        <td><input type=\"submit\" name=\"form.commit\"\n",
      "                                value=\"Log In\"/></td>\n",
      "                    </tr>\n",
      "                </table>\n",
      "            </form>\n",
      "        </div>\n",
      "    </body>\n",
      "</html>\n",
      "\n"
     ]
    }
   ],
   "source": [
    "from oic import rndstr\n",
    "from oic.oic import Client\n",
    "from requests.packages import urllib3\n",
    "\n",
    "urllib3.disable_warnings()\n",
    "\n",
    "cli = Client(verify_ssl=False)\n",
    "\n",
    "issuer = cli.discover(\"acct:diana@agaton-sax.com:8041\")\n",
    "\n",
    "pcr = cli.provider_config(issuer)\n",
    "\n",
    "registration_info = {'redirect_uris': ['https://example.com/rp']}\n",
    "\n",
    "regresp = cli.register(pcr['registration_endpoint'], **registration_info)\n",
    "\n",
    "_state = rndstr()\n",
    "request_args = {\n",
    "    'response_type': 'code',\n",
    "    'scope': ['openid'],\n",
    "    'redirect_uri': regresp['redirect_uris'],\n",
    "    'client_id': regresp['client_id']\n",
    "}\n",
    "\n",
    "res = cli.do_authorization_request(request_args=request_args, state=_state)\n",
    "print(res)\n"
   ]
  },
  {
   "cell_type": "code",
   "execution_count": null,
   "metadata": {
    "collapsed": true
   },
   "outputs": [],
   "source": []
  }
 ],
 "metadata": {
  "kernelspec": {
   "display_name": "Python 3",
   "language": "python",
   "name": "python3"
  },
  "language_info": {
   "codemirror_mode": {
    "name": "ipython",
    "version": 3
   },
   "file_extension": ".py",
   "mimetype": "text/x-python",
   "name": "python",
   "nbconvert_exporter": "python",
   "pygments_lexer": "ipython3",
   "version": "3.5.2"
  }
 },
 "nbformat": 4,
 "nbformat_minor": 2
}
