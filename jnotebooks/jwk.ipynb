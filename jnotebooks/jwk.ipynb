{
 "cells": [
  {
   "cell_type": "code",
   "execution_count": 1,
   "metadata": {},
   "outputs": [
    {
     "name": "stderr",
     "output_type": "stream",
     "text": [
      "/Library/Frameworks/Python.framework/Versions/3.5/lib/python3.5/site-packages/Cryptodome/Math/_Numbers_gmp.py:230: UserWarning: implicit cast to 'char *' from a different pointer type: will be forbidden in the future (check that the types are as you expect; use an explicit ffi.cast() if they are correct)\n",
      "  _gmp.gmp_snprintf(buf, c_size_t(buf_len), b(\"%Zd\"), self._mpz_p)\n"
     ]
    }
   ],
   "source": [
    "import json\n",
    "import os\n",
    "\n",
    "from oic.utils.keyio import create_and_store_rsa_key_pair\n",
    "from oic.utils.keyio import build_keyjar\n",
    "from jwkest.jwk import import_rsa_key_from_file\n",
    "from jwkest.jwk import RSAKey\n",
    "from jwkest.jwk import KEYS\n",
    "\n",
    "# Will create 2 files on disc if not there already\n",
    "# 'foo' will contain the private key\n",
    "# 'foo.pub' will contain the public key\n",
    "if not os.path.isfile('foo'):\n",
    "    key = create_and_store_rsa_key_pair(\"foo\", size=2048)\n",
    "    rsa = RSAKey().load_key(key)\n",
    "else:\n",
    "    rsa = RSAKey(key=import_rsa_key_from_file(\"foo\"))\n",
    "    key = rsa.key\n"
   ]
  },
  {
   "cell_type": "code",
   "execution_count": 2,
   "metadata": {},
   "outputs": [
    {
     "name": "stdout",
     "output_type": "stream",
     "text": [
      "--- JWK (public) ----\n",
      "{\n",
      "    \"e\": \"AQAB\",\n",
      "    \"kty\": \"RSA\",\n",
      "    \"n\": \"rfceiOHIaBhZE0ZLaQbuKQx46HgyrQ-3LV60VRBGiU4dwP0O5Y3w1d9JDthpWAcrVfc-8HiIlaqznx9rkzcKzxLrchJHALBaSbUD8SzFrlXUaZ7JPsc2WiwtcK0_ZY7LYvfNfFFbpbtzKPka0vL68jVatvzMzsWxepwauAqEwHjatEzV7-458fhQI2TrYnn2u646JEn0GgQI3057iGSAySoGQDRGudS8FzqCu9pONVT4ZU7AaYk5fsnHmnW7my9NEIdOndfXAh5p94m9UnHBhwS9dOM5rcDdwnkuL69gIbJ4on6ONaTb_4dY9uZt8_OUbqOoOD_tmf-kaq_-bg_bPw\"\n",
      "}\n",
      "\n"
     ]
    }
   ],
   "source": [
    "ser_rsa = rsa.serialize()\n",
    "\n",
    "print(\"--- JWK (public) ----\")\n",
    "print(json.dumps(ser_rsa, sort_keys=True, indent=4, separators=(',', ': ')))\n",
    "print()"
   ]
  },
  {
   "cell_type": "code",
   "execution_count": 3,
   "metadata": {},
   "outputs": [
    {
     "name": "stdout",
     "output_type": "stream",
     "text": [
      "--- JWK (private) ----\n",
      "{\n",
      "    \"d\": \"HJcdxZFAcRskndj8-73P1knedRY2qIqJ_ZgwOuqkglxRjNi0t1_50gG9mAWpCnaN1gr--mD_fC7EZm-w1k5C0IAOLH550iXUMNjhqk6ZY8ASBhRlLpQUMq2f_4H5hqSjzcK8BU-5qCXZFJrGoHSebr_7W1IgtrrMIu0U1w-jfEjFrsmDX8m1NYcc5nPCXMJkjqJo3yyma_l2hp6tTDSfzE5fisy3LI1FkWvynBRpkuak2GLOEM4dgVioLE8GY3wlYqhkck5BHTSdGddRpYlCGH9MGqbKxaMs5-gBLQyGh3C1zuYkViagh6md-0EwOe1naFaZQdPvle_LevK7RrdlAQ\",\n",
      "    \"e\": \"AQAB\",\n",
      "    \"kty\": \"RSA\",\n",
      "    \"n\": \"rfceiOHIaBhZE0ZLaQbuKQx46HgyrQ-3LV60VRBGiU4dwP0O5Y3w1d9JDthpWAcrVfc-8HiIlaqznx9rkzcKzxLrchJHALBaSbUD8SzFrlXUaZ7JPsc2WiwtcK0_ZY7LYvfNfFFbpbtzKPka0vL68jVatvzMzsWxepwauAqEwHjatEzV7-458fhQI2TrYnn2u646JEn0GgQI3057iGSAySoGQDRGudS8FzqCu9pONVT4ZU7AaYk5fsnHmnW7my9NEIdOndfXAh5p94m9UnHBhwS9dOM5rcDdwnkuL69gIbJ4on6ONaTb_4dY9uZt8_OUbqOoOD_tmf-kaq_-bg_bPw\",\n",
      "    \"p\": \"zSuiS612_GqJ-YrpcsX7RwxhS6qSQlbRm2B9T9anoaSMpsn8ECvxCp8U-mBAM1lpQgrs_dxwnQ-u3tNq1zFUnMKtmCFBBGcgE4BNUsrJBLMIgITsO1qFCyItOPMFpPlHR_3drQ3CBAktOQgNcTGFT_XptDGpBpe8uPTs6Sc6aPE\",\n",
      "    \"q\": \"2RBi3fTUKpiRdSPoNyAW9kSW-TZ2-Z9zx05FANfI4ejjknTZylS9bGn59O46U7qj19eBnVLP43-AWQkrR5wuxqScIHXu5-IJDtFCm6mQFzuEt4kG5nObeBtUzkN_4JX1_6h21_15-krqgGlSR_u4lTXn3gWkXoC5KC2cx3j4By8\"\n",
      "}\n",
      "\n"
     ]
    }
   ],
   "source": [
    "ser_rsa = rsa.serialize(private=True)\n",
    "\n",
    "print(\"--- JWK (private) ----\")\n",
    "print(json.dumps(ser_rsa, sort_keys=True, indent=4, separators=(',', ': ')))\n",
    "print()"
   ]
  },
  {
   "cell_type": "code",
   "execution_count": 4,
   "metadata": {},
   "outputs": [
    {
     "name": "stdout",
     "output_type": "stream",
     "text": [
      "--- JWKS ----\n",
      "{\"keys\": [{\"use\": \"sig\", \"kid\": \"rsa1\", \"n\": \"rfceiOHIaBhZE0ZLaQbuKQx46HgyrQ-3LV60VRBGiU4dwP0O5Y3w1d9JDthpWAcrVfc-8HiIlaqznx9rkzcKzxLrchJHALBaSbUD8SzFrlXUaZ7JPsc2WiwtcK0_ZY7LYvfNfFFbpbtzKPka0vL68jVatvzMzsWxepwauAqEwHjatEzV7-458fhQI2TrYnn2u646JEn0GgQI3057iGSAySoGQDRGudS8FzqCu9pONVT4ZU7AaYk5fsnHmnW7my9NEIdOndfXAh5p94m9UnHBhwS9dOM5rcDdwnkuL69gIbJ4on6ONaTb_4dY9uZt8_OUbqOoOD_tmf-kaq_-bg_bPw\", \"kty\": \"RSA\", \"e\": \"AQAB\"}]}\n"
     ]
    },
    {
     "name": "stderr",
     "output_type": "stream",
     "text": [
      "/Library/Frameworks/Python.framework/Versions/3.5/lib/python3.5/site-packages/Cryptodome/Math/_Numbers_gmp.py:230: UserWarning: implicit cast to 'char *' from a different pointer type: will be forbidden in the future (check that the types are as you expect; use an explicit ffi.cast() if they are correct)\n",
      "  _gmp.gmp_snprintf(buf, c_size_t(buf_len), b(\"%Zd\"), self._mpz_p)\n"
     ]
    }
   ],
   "source": [
    "keys = KEYS()\n",
    "keys.wrap_add(key, use=\"sig\", kid=\"rsa1\")\n",
    "\n",
    "print(\"--- JWKS ----\")\n",
    "print(keys.dump_jwks())"
   ]
  },
  {
   "cell_type": "code",
   "execution_count": 5,
   "metadata": {},
   "outputs": [
    {
     "name": "stderr",
     "output_type": "stream",
     "text": [
      "/Library/Frameworks/Python.framework/Versions/3.5/lib/python3.5/site-packages/Cryptodome/Math/_Numbers_gmp.py:230: UserWarning: implicit cast to 'char *' from a different pointer type: will be forbidden in the future (check that the types are as you expect; use an explicit ffi.cast() if they are correct)\n",
      "  _gmp.gmp_snprintf(buf, c_size_t(buf_len), b(\"%Zd\"), self._mpz_p)\n"
     ]
    },
    {
     "name": "stdout",
     "output_type": "stream",
     "text": [
      "\n",
      "---- JWKS from specification ----\n",
      "{'keys': [{'use': 'enc', 'kid': 'Z-zgcsMvBjJVREYliIA0BFJ8zr_Ig5UG6FtVCqgtrdY', 'n': 'rzWnfsrg_yb9DVJe1xGQL5hFnerVmedFRyaGIoAa2fKZgZphsKanBXDKLBbu1_OYtqkXPa5viZAUjN7JVD_IZvvA9aO5hqeZgFnLu9c5zSxJs_mX2nF06NI3E02lT-oBBvwW01ZZs6ob_V8BFIAredXBcg5caIUUCLSkbKIxeV35Ssrnc5N2ojeWBoCE1j1A97edlgfAUQuXCDh7ccYnD6qIWkpTctauQDRRtoLdTInQDOrN2Qp3HNGGIX2w9lxgI0dVK2MOVqajfUwxG38_9NnOn_5UQl0dnXraul_HqsIRZjRdHAUY0peaigprNG0ak7GJqLUDHjB7PXD1aqjjFw', 'kty': 'RSA', 'e': 'AQAB'}, {'use': 'sig', 'kid': 'tNFQu6Wz2D9vF-bc9j81AH6VD18r0qdtEyDoNRkZFn4', 'n': 'yjJFhB6SQLICgbc9XYW-kNXpW6-8CD_gff9SNfsNbjAbgXdtn9M7demo1TpRheaC2DaFbldftoOwu3vRIgYeOBtKerqn1FD2yd0ifM7QdRwiAsF3jMRvBlTH1v8OeXcGkYBzmLNLSUYTe8in75KsQYzPjM6G--lO3f1lepXUsLMMEOwv18tcDUW5SLQSutTZinrxM3NZY72eoqQIghkZ3ychNCUzeZXdQNh-BrShH2ilGAykkDOQF1qhF4c1VDhsNgF67cFz-0GNZJwfwiiO1WsOlVhS5oWl22VGG23uRGpzN8-dvgxi4jFrnk8BMw8dgWay982rbiI0pl_TYSo_DQ', 'kty': 'RSA', 'e': 'AQAB'}, {'crv': 'P-256', 'y': '40bAjU49HJ00iJ33Ojhb2ESkLaU9W0nL6im-kov5630', 'use': 'sig', 'kid': 'AXdZl4F_GvGo_pV5gJuMtqEqMlp5nH0NWDpPEEmmTwA', 'kty': 'EC', 'x': 'NddSfEzZTnyV-UFan8mNqfAbVYLG_JdBqq-KFTuMous'}, {'crv': 'P-256', 'y': 'Qo_Gknecm2IkB_w5_T-DMxMXKRa07_c6EhYa1m3XGKg', 'use': 'enc', 'kid': 'v7mtbYVp-lmzxkTpRw2HfxPE_B24nZxuB6gVg0ivr4s', 'kty': 'EC', 'x': 'lS_uhTo5eVVdig1P8BkDLFvC9Nv00SXdsk79MZclgSY'}]}\n"
     ]
    }
   ],
   "source": [
    "key_conf = [\n",
    "    {\"type\": \"RSA\", \"name\": \"rsa_key\", \"use\": [\"enc\", \"sig\"]},\n",
    "    {\"type\": \"EC\", \"crv\": \"P-256\", \"use\": [\"sig\"]},\n",
    "    {\"type\": \"EC\", \"crv\": \"P-256\", \"use\": [\"enc\"]}\n",
    "]\n",
    "\n",
    "jwks, keyjar, kdd = build_keyjar(key_conf)\n",
    "\n",
    "print()\n",
    "print(\"---- JWKS from specification ----\")\n",
    "print(jwks)"
   ]
  },
  {
   "cell_type": "code",
   "execution_count": 6,
   "metadata": {},
   "outputs": [
    {
     "name": "stdout",
     "output_type": "stream",
     "text": [
      "{\n",
      "    \"keys\": [\n",
      "        {\n",
      "            \"e\": \"AQAB\",\n",
      "            \"kid\": \"Z-zgcsMvBjJVREYliIA0BFJ8zr_Ig5UG6FtVCqgtrdY\",\n",
      "            \"kty\": \"RSA\",\n",
      "            \"n\": \"rzWnfsrg_yb9DVJe1xGQL5hFnerVmedFRyaGIoAa2fKZgZphsKanBXDKLBbu1_OYtqkXPa5viZAUjN7JVD_IZvvA9aO5hqeZgFnLu9c5zSxJs_mX2nF06NI3E02lT-oBBvwW01ZZs6ob_V8BFIAredXBcg5caIUUCLSkbKIxeV35Ssrnc5N2ojeWBoCE1j1A97edlgfAUQuXCDh7ccYnD6qIWkpTctauQDRRtoLdTInQDOrN2Qp3HNGGIX2w9lxgI0dVK2MOVqajfUwxG38_9NnOn_5UQl0dnXraul_HqsIRZjRdHAUY0peaigprNG0ak7GJqLUDHjB7PXD1aqjjFw\",\n",
      "            \"use\": \"enc\"\n",
      "        },\n",
      "        {\n",
      "            \"e\": \"AQAB\",\n",
      "            \"kid\": \"tNFQu6Wz2D9vF-bc9j81AH6VD18r0qdtEyDoNRkZFn4\",\n",
      "            \"kty\": \"RSA\",\n",
      "            \"n\": \"yjJFhB6SQLICgbc9XYW-kNXpW6-8CD_gff9SNfsNbjAbgXdtn9M7demo1TpRheaC2DaFbldftoOwu3vRIgYeOBtKerqn1FD2yd0ifM7QdRwiAsF3jMRvBlTH1v8OeXcGkYBzmLNLSUYTe8in75KsQYzPjM6G--lO3f1lepXUsLMMEOwv18tcDUW5SLQSutTZinrxM3NZY72eoqQIghkZ3ychNCUzeZXdQNh-BrShH2ilGAykkDOQF1qhF4c1VDhsNgF67cFz-0GNZJwfwiiO1WsOlVhS5oWl22VGG23uRGpzN8-dvgxi4jFrnk8BMw8dgWay982rbiI0pl_TYSo_DQ\",\n",
      "            \"use\": \"sig\"\n",
      "        },\n",
      "        {\n",
      "            \"crv\": \"P-256\",\n",
      "            \"kid\": \"AXdZl4F_GvGo_pV5gJuMtqEqMlp5nH0NWDpPEEmmTwA\",\n",
      "            \"kty\": \"EC\",\n",
      "            \"use\": \"sig\",\n",
      "            \"x\": \"NddSfEzZTnyV-UFan8mNqfAbVYLG_JdBqq-KFTuMous\",\n",
      "            \"y\": \"40bAjU49HJ00iJ33Ojhb2ESkLaU9W0nL6im-kov5630\"\n",
      "        },\n",
      "        {\n",
      "            \"crv\": \"P-256\",\n",
      "            \"kid\": \"v7mtbYVp-lmzxkTpRw2HfxPE_B24nZxuB6gVg0ivr4s\",\n",
      "            \"kty\": \"EC\",\n",
      "            \"use\": \"enc\",\n",
      "            \"x\": \"lS_uhTo5eVVdig1P8BkDLFvC9Nv00SXdsk79MZclgSY\",\n",
      "            \"y\": \"Qo_Gknecm2IkB_w5_T-DMxMXKRa07_c6EhYa1m3XGKg\"\n",
      "        }\n",
      "    ]\n",
      "}\n"
     ]
    }
   ],
   "source": [
    "print(json.dumps(jwks, sort_keys=True, indent=4, separators=(',', ': ')))"
   ]
  },
  {
   "cell_type": "code",
   "execution_count": null,
   "metadata": {
    "collapsed": true
   },
   "outputs": [],
   "source": []
  }
 ],
 "metadata": {
  "kernelspec": {
   "display_name": "Python 3",
   "language": "python",
   "name": "python3"
  },
  "language_info": {
   "codemirror_mode": {
    "name": "ipython",
    "version": 3
   },
   "file_extension": ".py",
   "mimetype": "text/x-python",
   "name": "python",
   "nbconvert_exporter": "python",
   "pygments_lexer": "ipython3",
   "version": "3.5.2"
  }
 },
 "nbformat": 4,
 "nbformat_minor": 2
}
