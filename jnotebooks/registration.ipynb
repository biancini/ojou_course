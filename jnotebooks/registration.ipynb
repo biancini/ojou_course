{
 "cells": [
  {
   "cell_type": "code",
   "execution_count": 4,
   "metadata": {},
   "outputs": [
    {
     "name": "stdout",
     "output_type": "stream",
     "text": [
      "https://agaton-sax.com:8041/\n"
     ]
    }
   ],
   "source": [
    "import json\n",
    "from oic.oic import Client\n",
    "\n",
    "from requests.packages import urllib3\n",
    "urllib3.disable_warnings()\n",
    "\n",
    "cli = Client(verify_ssl=False)\n",
    "issuer = cli.discover(\"acct:diana@agaton-sax.com:8041\")\n",
    "print(issuer)"
   ]
  },
  {
   "cell_type": "code",
   "execution_count": 5,
   "metadata": {},
   "outputs": [
    {
     "name": "stdout",
     "output_type": "stream",
     "text": [
      "https://agaton-sax.com:8041/registration\n"
     ]
    }
   ],
   "source": [
    "pcr = cli.provider_config(issuer)\n",
    "print(pcr['registration_endpoint'])"
   ]
  },
  {
   "cell_type": "code",
   "execution_count": 6,
   "metadata": {},
   "outputs": [
    {
     "name": "stdout",
     "output_type": "stream",
     "text": [
      "{\n",
      "    \"application_type\": \"web\",\n",
      "    \"client_id\": \"yWlEl8ZM79ng\",\n",
      "    \"client_id_issued_at\": 1495099579,\n",
      "    \"client_secret\": \"ce29254082e3b0fa2c9435d731471bb4da79ddea631733b0d077409b\",\n",
      "    \"client_secret_expires_at\": 1495185979,\n",
      "    \"redirect_uris\": [\n",
      "        \"https://example.com/cb\"\n",
      "    ],\n",
      "    \"registration_access_token\": \"G4j2vAwWC1jdfe4yMyS28pEH0ZAbvpc1\",\n",
      "    \"registration_client_uri\": \"https://agaton-sax.com:8041/registration?client_id=yWlEl8ZM79ng\",\n",
      "    \"response_types\": [\n",
      "        \"code\"\n",
      "    ],\n",
      "    \"token_endpoint_auth_method\": \"client_secret_basic\"\n",
      "}\n"
     ]
    }
   ],
   "source": [
    "registration_info = {'redirect_uris': ['https://example.com/cb']}\n",
    "\n",
    "regresp = rp.register(pcr['registration_endpoint'],\n",
    "                      **registration_info)\n",
    "\n",
    "print(json.dumps(regresp.to_dict(), sort_keys=True, indent=4,\n",
    "                 separators=(',', ': ')))\n"
   ]
  },
  {
   "cell_type": "code",
   "execution_count": null,
   "metadata": {
    "collapsed": true
   },
   "outputs": [],
   "source": []
  }
 ],
 "metadata": {
  "kernelspec": {
   "display_name": "Python 3",
   "language": "python",
   "name": "python3"
  },
  "language_info": {
   "codemirror_mode": {
    "name": "ipython",
    "version": 3
   },
   "file_extension": ".py",
   "mimetype": "text/x-python",
   "name": "python",
   "nbconvert_exporter": "python",
   "pygments_lexer": "ipython3",
   "version": "3.5.2"
  }
 },
 "nbformat": 4,
 "nbformat_minor": 2
}
