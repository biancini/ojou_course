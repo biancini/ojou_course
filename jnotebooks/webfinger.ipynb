{
 "cells": [
  {
   "cell_type": "code",
   "execution_count": 1,
   "metadata": {},
   "outputs": [
    {
     "name": "stdout",
     "output_type": "stream",
     "text": [
      "QUERY:https://op1.test.inacademia.org/.well-known/webfinger?resource=acct%3Acarol%40op1.test.inacademia.org&rel=http%3A%2F%2Fopenid.net%2Fspecs%2Fconnect%2F1.0%2Fissuer\n"
     ]
    }
   ],
   "source": [
    "import json\n",
    "import requests\n",
    "\n",
    "from oic.oauth2 import PBase\n",
    "from oic.utils.webfinger import OIC_ISSUER\n",
    "from oic.utils.webfinger import WebFinger\n",
    "\n",
    "from requests.packages import urllib3\n",
    "urllib3.disable_warnings()\n",
    "\n",
    "# Initiate the WebFinger class\n",
    "wf = WebFinger()\n",
    "\n",
    "RESOURCE = \"acct:carol@op1.test.inacademia.org\"\n",
    "# contruct the webfinger query URL\n",
    "query = wf.query(RESOURCE, rel=OIC_ISSUER)\n",
    "print('QUERY:{}'.format(query))"
   ]
  },
  {
   "cell_type": "code",
   "execution_count": 2,
   "metadata": {},
   "outputs": [
    {
     "name": "stdout",
     "output_type": "stream",
     "text": [
      "{\n",
      "    \"expires\": \"2017-05-18T08:19:24Z\",\n",
      "    \"links\": [\n",
      "        {\n",
      "            \"href\": \"https://op1.test.inacademia.org\",\n",
      "            \"rel\": \"http://openid.net/specs/connect/1.0/issuer\"\n",
      "        }\n",
      "    ],\n",
      "    \"subject\": \"acct:carol@op1.test.inacademia.org\"\n",
      "}\n"
     ]
    }
   ],
   "source": [
    "r = requests.request(\"GET\", query, verify=False)\n",
    "\n",
    "# parse the JSON returned by the website and dump the content to\n",
    "# standard out\n",
    "jwt = json.loads(r.text)\n",
    "print(json.dumps(jwt, sort_keys=True, indent=4, separators=(',', ': ')))"
   ]
  },
  {
   "cell_type": "code",
   "execution_count": 3,
   "metadata": {},
   "outputs": [
    {
     "name": "stdout",
     "output_type": "stream",
     "text": [
      "https://op1.test.inacademia.org\n"
     ]
    }
   ],
   "source": [
    "wf = WebFinger()\n",
    "\n",
    "# PBase is a wrapper around requests\n",
    "wf.httpd = PBase(verify_ssl=False)\n",
    "\n",
    "# discover_query will follow webfinger redirects\n",
    "url = wf.discovery_query(RESOURCE)\n",
    "print(url)"
   ]
  },
  {
   "cell_type": "code",
   "execution_count": null,
   "metadata": {
    "collapsed": true
   },
   "outputs": [],
   "source": []
  }
 ],
 "metadata": {
  "kernelspec": {
   "display_name": "Python 3",
   "language": "python",
   "name": "python3"
  },
  "language_info": {
   "codemirror_mode": {
    "name": "ipython",
    "version": 3
   },
   "file_extension": ".py",
   "mimetype": "text/x-python",
   "name": "python",
   "nbconvert_exporter": "python",
   "pygments_lexer": "ipython3",
   "version": "3.5.2"
  }
 },
 "nbformat": 4,
 "nbformat_minor": 2
}
