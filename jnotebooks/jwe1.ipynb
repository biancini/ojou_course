{
 "cells": [
  {
   "cell_type": "code",
   "execution_count": 10,
   "metadata": {},
   "outputs": [
    {
     "name": "stdout",
     "output_type": "stream",
     "text": [
      "Parts of the encrypted JWT (RSA1_5+A128CBC-HS256)\n",
      "- eyJlbmMiOiJBMTI4Q0JDLUhTMjU2IiwiYWxnIjoiUlNBMV81In0\n",
      "- Th_Y8mgKklPOjGorNp4CMy_OFrZyo4wqiHN3vrpcg3y2p2WK1ddNABVcwCBZ3vaNigwBJmzz5BPlEw4YGLt5lyf-LLsdCuWsMBx7rTKivzoxIJy6Qxt8XbySLoUiU1xgCmfiBuv-5Jqk76Z0UIzQbsdnpUYgxzvf7zndYF-uHbPH3BHMsdIKL4_0KzUNkkzSnk6RJA4SLlPHZHdqozxMJLi3qbvc_AgBm6tZ74dHnxqX-hvA2YLKLdcu6lxjTJ9zFrvAk8Jsn8X3UDutFx9T30_hsOm520RJPz5sXL0icuRxU9bX8YGxDtWUehzwgL43Ts1rW-__52mtOm964zO6Jw\n",
      "- M_DgTaS1JGqOMx8ZgY73eA\n",
      "- hDD8HLpaG0hORJuQO3LHTNFtvw6njM8SW8w5ZUOU3BiHrsj-eCH0SzDlBq5ykKoWC0pk6sLSWMOi-S3Y4OUnbnNobwkxzGy6IA893ddIJow\n",
      "- fBPVq_ToWgokNP1N6xDKDg\n"
     ]
    },
    {
     "name": "stderr",
     "output_type": "stream",
     "text": [
      "/Library/Frameworks/Python.framework/Versions/3.5/lib/python3.5/site-packages/Cryptodome/Math/_Numbers_gmp.py:230: UserWarning: implicit cast to 'char *' from a different pointer type: will be forbidden in the future (check that the types are as you expect; use an explicit ffi.cast() if they are correct)\n",
      "  _gmp.gmp_snprintf(buf, c_size_t(buf_len), b(\"%Zd\"), self._mpz_p)\n"
     ]
    }
   ],
   "source": [
    "from Cryptodome.PublicKey import RSA\n",
    "from jwkest.jwe import JWE_RSA\n",
    "\n",
    "__author__ = 'roland'\n",
    "\n",
    "rsa_key = RSA.generate(2048)\n",
    "# Usually the message is a JSON document but nothing prevents you from\n",
    "# using any text as long as it's unicode.\n",
    "plain = \"Now is the time for all good men to come to the aid of their country.\"\n",
    "\n",
    "_rsa15_jwe = JWE_RSA(msg=plain, alg=\"RSA1_5\", enc=\"A128CBC-HS256\")\n",
    "jwt1 = _rsa15_jwe.encrypt(rsa_key)\n",
    "\n",
    "print(\"Parts of the encrypted JWT (RSA1_5+A128CBC-HS256)\")\n",
    "for p in jwt1.split('.'):\n",
    "    print(\"-\", p)"
   ]
  },
  {
   "cell_type": "code",
   "execution_count": 11,
   "metadata": {},
   "outputs": [
    {
     "name": "stdout",
     "output_type": "stream",
     "text": [
      "After decryption (RSA 1.5+A128CBC-HS256)\n",
      "b'Now is the time for all good men to come to the aid of their country.'\n"
     ]
    },
    {
     "name": "stderr",
     "output_type": "stream",
     "text": [
      "/Library/Frameworks/Python.framework/Versions/3.5/lib/python3.5/site-packages/Cryptodome/Math/_Numbers_gmp.py:230: UserWarning: implicit cast to 'char *' from a different pointer type: will be forbidden in the future (check that the types are as you expect; use an explicit ffi.cast() if they are correct)\n",
      "  _gmp.gmp_snprintf(buf, c_size_t(buf_len), b(\"%Zd\"), self._mpz_p)\n"
     ]
    }
   ],
   "source": [
    "msg = _rsa15_jwe.decrypt(jwt1, rsa_key)\n",
    "print(\"After decryption (RSA 1.5+A128CBC-HS256)\")\n",
    "print(msg)"
   ]
  },
  {
   "cell_type": "code",
   "execution_count": 12,
   "metadata": {},
   "outputs": [
    {
     "name": "stderr",
     "output_type": "stream",
     "text": [
      "/Library/Frameworks/Python.framework/Versions/3.5/lib/python3.5/site-packages/Cryptodome/Math/_Numbers_gmp.py:230: UserWarning: implicit cast to 'char *' from a different pointer type: will be forbidden in the future (check that the types are as you expect; use an explicit ffi.cast() if they are correct)\n",
      "  _gmp.gmp_snprintf(buf, c_size_t(buf_len), b(\"%Zd\"), self._mpz_p)\n"
     ]
    },
    {
     "name": "stdout",
     "output_type": "stream",
     "text": [
      "Parts of the encrypted JWT (RSA-OAEP+A256GCM)\n",
      "- eyJlbmMiOiJBMjU2R0NNIiwiYWxnIjoiUlNBLU9BRVAifQ\n",
      "- fzIAU62BFOniimtv1tz1qBAv97LT0tLZiNF7udhCsUhD-mjCnoAX3oAC2EVHpVIZZVVaSEHHP6e4aD-QfmNYlzuvpIVDtwORN9FMPjnIjkHltubGHOWFyplSkKcZpaMqfOmO17AYBWlhp_wIOSOuKV7MbA-_Yok8uSfhzkZN265cp45Ey9I1X17LI-WMm3Sckzg0I_FCdoesRtO5NaOHm_X_L8WvBLuyad_GyuEbV4Axi3p4O883kuQ4fP_MlQKdwX_ogBoT131HqdrNk2NIxHDG1MdUlif1L7PZ_TCIh3OyjBYILea55c6UKE6gfl375bOdAm9gGuwsoygmgtkyag\n",
      "- Hfu9k6W_xnJXjztW\n",
      "- gLECkqNSKbCwVyG_2G9Rz-ci1GCQIHaV9m6BG9Bb11X2lTAtM3zKCUr6u2mPu348soCbSX03sPyt8SUcFM_Dd_zvzImN\n",
      "- Nt_Durb9VDHe2_nsbJxBhw\n"
     ]
    }
   ],
   "source": [
    "_jwe = JWE_RSA(plain, alg=\"RSA-OAEP\", enc=\"A256GCM\").encrypt(rsa_key)\n",
    "print(\"Parts of the encrypted JWT (RSA-OAEP+A256GCM)\")\n",
    "for p in _jwe.split(\".\"):\n",
    "    print(\"-\", p)"
   ]
  },
  {
   "cell_type": "code",
   "execution_count": 13,
   "metadata": {},
   "outputs": [
    {
     "name": "stderr",
     "output_type": "stream",
     "text": [
      "/Library/Frameworks/Python.framework/Versions/3.5/lib/python3.5/site-packages/Cryptodome/Math/_Numbers_gmp.py:230: UserWarning: implicit cast to 'char *' from a different pointer type: will be forbidden in the future (check that the types are as you expect; use an explicit ffi.cast() if they are correct)\n",
      "  _gmp.gmp_snprintf(buf, c_size_t(buf_len), b(\"%Zd\"), self._mpz_p)\n"
     ]
    },
    {
     "name": "stdout",
     "output_type": "stream",
     "text": [
      "After decryption (RSA-OAEP+A256GCM)\n",
      "b'Now is the time for all good men to come to the aid of their country.'\n"
     ]
    }
   ],
   "source": [
    "msg = JWE_RSA().decrypt(_jwe, rsa_key)\n",
    "print(\"After decryption (RSA-OAEP+A256GCM)\")\n",
    "print(msg)"
   ]
  },
  {
   "cell_type": "code",
   "execution_count": null,
   "metadata": {
    "collapsed": true
   },
   "outputs": [],
   "source": []
  }
 ],
 "metadata": {
  "kernelspec": {
   "display_name": "Python 3",
   "language": "python",
   "name": "python3"
  },
  "language_info": {
   "codemirror_mode": {
    "name": "ipython",
    "version": 3
   },
   "file_extension": ".py",
   "mimetype": "text/x-python",
   "name": "python",
   "nbconvert_exporter": "python",
   "pygments_lexer": "ipython3",
   "version": "3.5.2"
  }
 },
 "nbformat": 4,
 "nbformat_minor": 2
}
